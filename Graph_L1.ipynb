{
  "nbformat": 4,
  "nbformat_minor": 0,
  "metadata": {
    "colab": {
      "name": "Graph_L1",
      "provenance": [],
      "collapsed_sections": []
    },
    "kernelspec": {
      "name": "python3",
      "display_name": "Python 3"
    },
    "language_info": {
      "name": "python"
    }
  },
  "cells": [
    {
      "cell_type": "code",
      "execution_count": 32,
      "metadata": {
        "id": "TOHSDTScyZAh"
      },
      "outputs": [],
      "source": [
        "import networkx as nx\n",
        "import numpy as np"
      ]
    },
    {
      "cell_type": "code",
      "source": [
        "G = nx.Graph()\n",
        "V = {'A','B','C','D','E'}\n",
        "E = [('A','B'),('A','C'),('A','D'),('A','E'),('B','C'),('B','D')]"
      ],
      "metadata": {
        "id": "oIAv2X6_yrTk"
      },
      "execution_count": 33,
      "outputs": []
    },
    {
      "cell_type": "code",
      "source": [
        "G.add_nodes_from(V)\n",
        "G.add_edges_from(E)"
      ],
      "metadata": {
        "id": "3TxX_NlczNbv"
      },
      "execution_count": 34,
      "outputs": []
    },
    {
      "cell_type": "code",
      "source": [
        "print(G.nodes)"
      ],
      "metadata": {
        "colab": {
          "base_uri": "https://localhost:8080/"
        },
        "id": "-fr_KZev0Z7G",
        "outputId": "c89da5b1-1c4d-4e80-d1a0-f6cd83a179df"
      },
      "execution_count": 35,
      "outputs": [
        {
          "output_type": "stream",
          "name": "stdout",
          "text": [
            "['A', 'C', 'E', 'B', 'D']\n"
          ]
        }
      ]
    },
    {
      "cell_type": "code",
      "source": [
        "print(f\"Graph Order; {G.number_of_edges()}\")\n",
        "print(f\"Graph Size; {G.number_of_nodes()}\")"
      ],
      "metadata": {
        "colab": {
          "base_uri": "https://localhost:8080/"
        },
        "id": "qu3mwZeAzYO-",
        "outputId": "d4003aa2-d5e1-48ed-8d96-955f0ad92b5a"
      },
      "execution_count": 36,
      "outputs": [
        {
          "output_type": "stream",
          "name": "stdout",
          "text": [
            "Graph Order; 6\n",
            "Graph Size; 5\n"
          ]
        }
      ]
    },
    {
      "cell_type": "code",
      "source": [
        "for V in G.nodes:\n",
        "  print(V, G.degree(V))"
      ],
      "metadata": {
        "colab": {
          "base_uri": "https://localhost:8080/"
        },
        "id": "2SchK4bnz3HX",
        "outputId": "aa974be7-1ded-4aba-fb6c-f4da36a89b3c"
      },
      "execution_count": 37,
      "outputs": [
        {
          "output_type": "stream",
          "name": "stdout",
          "text": [
            "A 4\n",
            "C 2\n",
            "E 1\n",
            "B 3\n",
            "D 2\n"
          ]
        }
      ]
    },
    {
      "cell_type": "markdown",
      "source": [
        "###Homework"
      ],
      "metadata": {
        "id": "HKspoBy57rMs"
      }
    },
    {
      "cell_type": "markdown",
      "source": [
        "##Ex 1: Directed gragh G = (V,E)\n",
        "###a) Find adjacency matrix\n",
        "\n"
      ],
      "metadata": {
        "id": "D3bDIAZiGZWH"
      }
    },
    {
      "cell_type": "code",
      "source": [
        "G = nx.Graph()\n",
        "V = ['A','B','C','D','E']\n",
        "E = [('A','B'),('A','C'),('A','D'),('A','E'),('B','C'),('B','E'),('B','D')]"
      ],
      "metadata": {
        "id": "RmQmPB8K8FgD"
      },
      "execution_count": 72,
      "outputs": []
    },
    {
      "cell_type": "code",
      "source": [
        "n = len(V)"
      ],
      "metadata": {
        "id": "aC8bfeugCxJk"
      },
      "execution_count": 73,
      "outputs": []
    },
    {
      "cell_type": "code",
      "source": [
        "adj = np.zeros((n,n))\n",
        "adj"
      ],
      "metadata": {
        "colab": {
          "base_uri": "https://localhost:8080/"
        },
        "id": "zOO3YpiBCzIM",
        "outputId": "734820ec-a5a8-4a79-d38b-0d3c5c92d934"
      },
      "execution_count": 74,
      "outputs": [
        {
          "output_type": "execute_result",
          "data": {
            "text/plain": [
              "array([[0., 0., 0., 0., 0.],\n",
              "       [0., 0., 0., 0., 0.],\n",
              "       [0., 0., 0., 0., 0.],\n",
              "       [0., 0., 0., 0., 0.],\n",
              "       [0., 0., 0., 0., 0.]])"
            ]
          },
          "metadata": {},
          "execution_count": 74
        }
      ]
    },
    {
      "cell_type": "code",
      "source": [
        "city_index = {V[i]:i for i in range(len(V))}\n",
        "city_index"
      ],
      "metadata": {
        "colab": {
          "base_uri": "https://localhost:8080/"
        },
        "id": "DB2vPz4k9TCz",
        "outputId": "0d6ab037-6c0a-481a-c884-4fd241d74ab5"
      },
      "execution_count": 75,
      "outputs": [
        {
          "output_type": "execute_result",
          "data": {
            "text/plain": [
              "{'A': 0, 'B': 1, 'C': 2, 'D': 3, 'E': 4}"
            ]
          },
          "metadata": {},
          "execution_count": 75
        }
      ]
    },
    {
      "cell_type": "code",
      "source": [
        "for i in E:\n",
        "  x = city_index[i[0]]\n",
        "  y = city_index[i[1]]\n",
        "  adj[x][y] = 1"
      ],
      "metadata": {
        "id": "mW-MM-GJC61s"
      },
      "execution_count": 76,
      "outputs": []
    },
    {
      "cell_type": "code",
      "source": [
        "adj"
      ],
      "metadata": {
        "id": "Ey8zVQXg82Ql",
        "colab": {
          "base_uri": "https://localhost:8080/"
        },
        "outputId": "45c48272-8c3f-4035-8313-a3ac1a95c658"
      },
      "execution_count": 77,
      "outputs": [
        {
          "output_type": "execute_result",
          "data": {
            "text/plain": [
              "array([[0., 1., 1., 1., 1.],\n",
              "       [0., 0., 1., 1., 1.],\n",
              "       [0., 0., 0., 0., 0.],\n",
              "       [0., 0., 0., 0., 0.],\n",
              "       [0., 0., 0., 0., 0.]])"
            ]
          },
          "metadata": {},
          "execution_count": 77
        }
      ]
    },
    {
      "cell_type": "markdown",
      "source": [
        "###b) Tính indegree, outdegree mỗi node, lưu thông tin dưới dạng dict"
      ],
      "metadata": {
        "id": "mlNN4hENG1d1"
      }
    },
    {
      "cell_type": "code",
      "source": [
        "in_ = np.sum(adj, axis = 0)\n",
        "in_"
      ],
      "metadata": {
        "colab": {
          "base_uri": "https://localhost:8080/"
        },
        "id": "SAO3g8zcPTbs",
        "outputId": "05052111-e84b-40b5-b835-6f5f7874fb6e"
      },
      "execution_count": 78,
      "outputs": [
        {
          "output_type": "execute_result",
          "data": {
            "text/plain": [
              "array([0., 1., 2., 2., 2.])"
            ]
          },
          "metadata": {},
          "execution_count": 78
        }
      ]
    },
    {
      "cell_type": "code",
      "source": [
        "out_ = np.sum(adj, axis = 1)\n",
        "out_"
      ],
      "metadata": {
        "colab": {
          "base_uri": "https://localhost:8080/"
        },
        "id": "qJWMlThDPett",
        "outputId": "ac1bf033-8bba-4681-c20e-5cffd1bbb105"
      },
      "execution_count": 79,
      "outputs": [
        {
          "output_type": "execute_result",
          "data": {
            "text/plain": [
              "array([4., 3., 0., 0., 0.])"
            ]
          },
          "metadata": {},
          "execution_count": 79
        }
      ]
    },
    {
      "cell_type": "code",
      "source": [
        "indegree = {}\n",
        "indegree"
      ],
      "metadata": {
        "colab": {
          "base_uri": "https://localhost:8080/"
        },
        "id": "xLONtx3jQTzH",
        "outputId": "f71cd5b1-9123-46cb-db32-02f8eaf1d890"
      },
      "execution_count": 80,
      "outputs": [
        {
          "output_type": "execute_result",
          "data": {
            "text/plain": [
              "{}"
            ]
          },
          "metadata": {},
          "execution_count": 80
        }
      ]
    },
    {
      "cell_type": "markdown",
      "source": [
        "##Ex 2: Cho weighted graph G=(V,E,w). Implement thuật toán dijsktra bằng python để tìm đường đi ngắn nhất giữa 2 nodes, tự tạo 1 graph, có nhiều path giữa 2 nodes và test thử."
      ],
      "metadata": {
        "id": "iZA5xtc9hBlh"
      }
    }
  ]
}